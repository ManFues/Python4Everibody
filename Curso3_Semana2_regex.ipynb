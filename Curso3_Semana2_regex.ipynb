{
  "nbformat": 4,
  "nbformat_minor": 0,
  "metadata": {
    "colab": {
      "name": "Curso3-Semana2-regex.ipynb",
      "provenance": [],
      "mount_file_id": "https://gist.github.com/ManFues/d88f92e8948e42fe83f908c100f02778#file-curso3-semana2-regex-ipynb",
      "authorship_tag": "ABX9TyNUwCMTZc1nmWWW638IAG0T",
      "include_colab_link": true
    },
    "kernelspec": {
      "name": "python3",
      "display_name": "Python 3"
    },
    "language_info": {
      "name": "python"
    }
  },
  "cells": [
    {
      "cell_type": "markdown",
      "metadata": {
        "id": "view-in-github",
        "colab_type": "text"
      },
      "source": [
        "<a href=\"https://colab.research.google.com/github/ManFues/Python4Everibody/blob/main/Curso3_Semana2_regex.ipynb\" target=\"_parent\"><img src=\"https://colab.research.google.com/assets/colab-badge.svg\" alt=\"Open In Colab\"/></a>"
      ]
    },
    {
      "cell_type": "code",
      "metadata": {
        "id": "5PC8dmtGvtUp"
      },
      "source": [
        "handle=open(\"/content/drive/My Drive/Colab Notebooks/Python2everibody/regex/regex_sum_1344773.txt\", \"r\")"
      ],
      "execution_count": 2,
      "outputs": []
    },
    {
      "cell_type": "code",
      "metadata": {
        "colab": {
          "base_uri": "https://localhost:8080/"
        },
        "id": "jiWRpeBvwQsN",
        "outputId": "96a12855-bed7-4efe-ca50-632ec78b4d6f"
      },
      "source": [
        "#importamos regular expresion\n",
        "import re\n",
        "\n",
        "#Definimos variables \n",
        "x=0\n",
        "\n",
        "# Filtramos por los números y lo convertimos en un String \n",
        "\n",
        "numeros = re.findall('[0-9]+', handle.read())\n",
        "\n",
        "#los sumamos\n",
        "\n",
        "for i in numeros:\n",
        "  x=x+int(i)\n",
        "print('el número final es', x)"
      ],
      "execution_count": 3,
      "outputs": [
        {
          "output_type": "stream",
          "name": "stdout",
          "text": [
            "el número final es 426131\n"
          ]
        }
      ]
    }
  ]
}